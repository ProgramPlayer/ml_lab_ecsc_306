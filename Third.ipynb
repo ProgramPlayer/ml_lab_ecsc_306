{
 "cells": [
  {
   "cell_type": "code",
   "execution_count": 16,
   "metadata": {},
   "outputs": [
    {
     "name": "stdout",
     "output_type": "stream",
     "text": [
      "25.2167\n",
      "15.7833\n",
      "[[-14.81666565 -23.91666603 -16.01666641  -9.61666489  74.3833313\n",
      "  -10.01666546]]\n",
      "6773.77\n"
     ]
    }
   ],
   "source": [
    "import tensorflow as tf\n",
    "with tf.name_scope(\"variance\") :\n",
    "    with tf.name_scope(\"mean_A\") :\n",
    "            A_array=tf.constant([10.4,1.3,9.2,15.6,99.6,15.2],shape=[1,6],name='A_array')\n",
    "            B_array=tf.constant([3.2,44.2,6.9,23.6,9.0,7.8],shape=[1,6],name='B_array')\n",
    "            A_mean=tf.reduce_mean(A_array)\n",
    "            sess=tf.Session()\n",
    "            print(sess.run(A_mean))\n",
    "    with tf.name_scope(\"mean_B\"):\n",
    "           B_mean=tf.reduce_mean(B_array)\n",
    "           sess=tf.Session()\n",
    "           print(sess.run(B_mean))\n",
    "    \n",
    "  \n",
    "    d=tf.subtract(A_array,A_mean)\n",
    "    sess=tf.Session()\n",
    "    print(sess.run(d))\n",
    "    \n",
    "    e=tf.square(d)\n",
    "    variance=tf.reduce_sum(e)\n",
    "    sess=tf.Session()\n",
    "    print(sess.run(variance))\n",
    "    \n",
    "    \n",
    "    "
   ]
  },
  {
   "cell_type": "code",
   "execution_count": 17,
   "metadata": {},
   "outputs": [
    {
     "name": "stdout",
     "output_type": "stream",
     "text": [
      "-850.678\n"
     ]
    }
   ],
   "source": [
    " with tf.name_scope(\"co-variance\"):\n",
    "        g=tf.subtract(B_array,B_mean)\n",
    "        sess=tf.Session()\n",
    "        g=tf.multiply(d,g)\n",
    "        cov=tf.reduce_sum(g)\n",
    "        print(sess.run(cov))"
   ]
  },
  {
   "cell_type": "code",
   "execution_count": 26,
   "metadata": {},
   "outputs": [
    {
     "name": "stdout",
     "output_type": "stream",
     "text": [
      "-0.125584\n",
      "18.9501\n"
     ]
    }
   ],
   "source": [
    "with tf.name_scope(\"value_of_c\"):\n",
    "        c=tf.divide(cov,variance)\n",
    "        print(sess.run(c))\n",
    "with tf.name_scope(\"value_m\"):\n",
    "        i=tf.multiply(c,A_mean)\n",
    "        k=tf.subtract(B_mean,i)\n",
    "        print(sess.run(k))\n",
    "with tf.Session() as sess:\n",
    "        writer = tf.summary.FileWriter(\"/tmp/tboard/output4\", sess.graph)\n",
    "        writer.close()"
   ]
  },
  {
   "cell_type": "code",
   "execution_count": null,
   "metadata": {
    "collapsed": true
   },
   "outputs": [],
   "source": []
  }
 ],
 "metadata": {
  "kernelspec": {
   "display_name": "Python 3",
   "language": "python",
   "name": "python3"
  },
  "language_info": {
   "codemirror_mode": {
    "name": "ipython",
    "version": 3
   },
   "file_extension": ".py",
   "mimetype": "text/x-python",
   "name": "python",
   "nbconvert_exporter": "python",
   "pygments_lexer": "ipython3",
   "version": "3.6.1"
  }
 },
 "nbformat": 4,
 "nbformat_minor": 2
}
